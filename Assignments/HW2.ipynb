{
 "cells": [
  {
   "cell_type": "markdown",
   "metadata": {},
   "source": [
    "## Machine Learning II Exercise 2\n"
   ]
  },
  {
   "cell_type": "markdown",
   "metadata": {},
   "source": [
    "### Solution by Matthias Tangemann \n",
    "\n",
    "#### with Andrii Zadaianchuk comments "
   ]
  },
  {
   "cell_type": "markdown",
   "metadata": {},
   "source": [
    "#### Bayesian Networks"
   ]
  },
  {
   "cell_type": "markdown",
   "metadata": {},
   "source": [
    "##### E1"
   ]
  },
  {
   "cell_type": "markdown",
   "metadata": {},
   "source": [
    "The path $(X_1,X_4,X_2,X_6,X_7,X_5)$ is not blocked: In nodes $X_4$ and $X_7$ the edges of the path meet head-to-head, but both nodes are in the set of observed variables $C$. In the remaining intermediate nodes $X_2$ and $X_6$, the edges meet tail-to-tail and head-to-tail, respectively. But neither of the nodes is in $C$."
   ]
  },
  {
   "cell_type": "markdown",
   "metadata": {},
   "source": [
    "##### E2"
   ]
  },
  {
   "cell_type": "markdown",
   "metadata": {},
   "source": [
    " If $C_1 := \\{x_2,x_3\\}$ are given, both paths from $x_1$ to $x_4$ are blocked: In the intermediate nodes $x_2$ and $x_3$ of the paths $(x_1,x_2,x_4)$ and $(x_1,x_3,x_4)$, the edges meet head-to-tail and both nodes are in $C_1$. So $x_1 \\perp x_4 | (x_2,x_3)$.\n",
    " \n",
    "If $C_2 := \\{x_1,x_4\\}$ are given, the path $(x_2,x_4,x_3)$ is not blocked, because in the only intermediate node $x_4$, the edges meet head-to-head, but $x_4 \\in C_2$. So $x_2 \\perp x_3 | (x_1,x_4)$ does not hold.\n",
    "  "
   ]
  },
  {
   "cell_type": "markdown",
   "metadata": {},
   "source": [
    "##### E3"
   ]
  },
  {
   "cell_type": "markdown",
   "metadata": {},
   "source": [
    "  Let $C_2 = \\{x_1,x_4\\}$ be given. Then both paths from $x_2$ to $x_3$, e.g. $(x_2,x_1,x_3)$ and $(x_2,x_4,x_3)$, are blocked: In both intermediate nodes $x_1$ and $x_4$ the edges meet tail-to-tail, and both nodes are in $C_2$. So $C_1$. So $x_1 \\perp x_4 | (x_2,x_3)$.\n",
    "  \n",
    "  If $C_1 = \\{x_2,x_3\\}$ are given, the path $(x_1,x_2,x_4)$ is not blocked, because in the only intermediate node $x_2$, the edges meet head-to-head, but $x_2 \\in C_1$. So $x_1 \\perp x_4 | (x_2,x_3)$ does not hold."
   ]
  },
  {
   "cell_type": "markdown",
   "metadata": {},
   "source": [
    "#### Hidden Markov Models"
   ]
  },
  {
   "cell_type": "markdown",
   "metadata": {},
   "source": [
    "##### E4"
   ]
  },
  {
   "cell_type": "markdown",
   "metadata": {},
   "source": [
    "##### E5"
   ]
  },
  {
   "cell_type": "markdown",
   "metadata": {},
   "source": [
    "##### E6"
   ]
  },
  {
   "cell_type": "markdown",
   "metadata": {},
   "source": [
    "##### E7"
   ]
  },
  {
   "cell_type": "markdown",
   "metadata": {},
   "source": [
    "##### E8"
   ]
  },
  {
   "cell_type": "markdown",
   "metadata": {},
   "source": [
    "##### E9"
   ]
  },
  {
   "cell_type": "markdown",
   "metadata": {},
   "source": [
    "##### E10"
   ]
  }
 ],
 "metadata": {
  "kernelspec": {
   "display_name": "Python 3",
   "language": "python",
   "name": "python3"
  },
  "language_info": {
   "codemirror_mode": {
    "name": "ipython",
    "version": 3
   },
   "file_extension": ".py",
   "mimetype": "text/x-python",
   "name": "python",
   "nbconvert_exporter": "python",
   "pygments_lexer": "ipython3",
   "version": "3.5.3"
  }
 },
 "nbformat": 4,
 "nbformat_minor": 2
}
